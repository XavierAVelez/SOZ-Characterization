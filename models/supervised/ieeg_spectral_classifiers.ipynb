{
 "cells": [
  {
   "cell_type": "code",
   "execution_count": 1,
   "id": "40256330",
   "metadata": {},
   "outputs": [],
   "source": [
    "import numpy as np\n",
    "import scipy as sp\n",
    "import matplotlib.pyplot as plt\n",
    "import pickle\n",
    "import os\n",
    "from sklearn.linear_model import LogisticRegression\n",
    "from sklearn.model_selection import train_test_split\n",
    "from sklearn.svm import SVC\n",
    "from sklearn.metrics import *\n",
    "import xgboost as xgb\n",
    "import torch\n",
    "import torch.nn.functional as F\n",
    "from torch import nn\n",
    "import torchvision\n",
    "import gc\n"
   ]
  },
  {
   "cell_type": "code",
   "execution_count": 2,
   "id": "d07cadc4",
   "metadata": {},
   "outputs": [],
   "source": [
    "# get a list of participant IDs that have soz labels\n",
    "sozDir = \"C:/Users/Xavier Velez/Documents/ECE6254/code/Localising_SOZ_from_SPES/data/main\"\n",
    "sozFiles = os.listdir(sozDir)\n",
    "\n",
    "sozFiles = sozFiles[1:36]\n",
    "sozPids = []\n",
    "for file in sozFiles:\n",
    "    sozPids.append(int(file[18:20]))\n"
   ]
  },
  {
   "cell_type": "code",
   "execution_count": null,
   "id": "e2d35a9a",
   "metadata": {
    "scrolled": true
   },
   "outputs": [],
   "source": [
    "Fs = 2048\n",
    "dataDir = \"C:/Users/Xavier Velez/Documents/ECE6254/code/autoencoder/CCEP_Project\"\n",
    "allFiles = os.listdir(dataDir)[:-1]\n",
    "\n",
    "all_bps = np.zeros((1,8))\n",
    "all_bps_z = np.zeros((1,8))\n",
    "all_soz = np.zeros((1,))\n",
    "run_bps = []\n",
    "run_soz = []\n",
    "runNames = []\n",
    "for inst in allFiles:\n",
    "    # only use participants with soz labels\n",
    "    pid = int(inst[11:13])\n",
    "    if pid not in sozPids:\n",
    "        continue\n",
    "    \n",
    "    runNames.append(pid)\n",
    "    # load the data from the pickle file\n",
    "    with open(os.path.join(dataDir,inst), 'rb') as file:\n",
    "        currRun = pickle.load(file)\n",
    "        \n",
    "    channel_metrics = {}\n",
    "    channel_soz = {}\n",
    "    for event in currRun.keys():\n",
    "        # get the ECOG data\n",
    "        event_ecog = currRun[event]['ecog_data']\n",
    "\n",
    "        # go through all channels\n",
    "        chan_key_list = list(currRun[event]['ch_info'].keys())\n",
    "        for chan in chan_key_list:\n",
    "            # if channel doesn't already exist, initialize with current time series\n",
    "            if chan not in channel_metrics:\n",
    "                channel_metrics[chan] = event_ecog[chan_key_list.index(chan),:]\n",
    "                channel_soz[chan] = currRun[event]['soz_labels'][chan_key_list.index(chan)]\n",
    "            # if it does exist, concatenate the current ECOG to that channel time series\n",
    "            else:\n",
    "                channel_metrics[chan] = np.concatenate((channel_metrics[chan], event_ecog[chan_key_list.index(chan),:]))\n",
    "    \n",
    "    channel_bps = np.zeros((8,))\n",
    "    \n",
    "    # with all connected time series, find the bandpowers for each channel\n",
    "    for chan in channel_metrics.keys():\n",
    "        # take the PSD of the current channel\n",
    "        chan_psd, chan_freqs = plt.psd(channel_metrics[chan], Fs=2048, NFFT=2**12, detrend='linear', noverlap=2**8, scale_by_freq=False)\n",
    "        plt.clf()\n",
    "\n",
    "        # extract relative bandpowers\n",
    "        totalPower = np.sum(chan_psd[np.where(chan_freqs < 150)])\n",
    "        delta = np.sum(chan_psd[np.where(chan_freqs < 4)]) / totalPower\n",
    "        theta = np.sum(chan_psd[np.where((chan_freqs>=4) & (chan_freqs < 8))]) / totalPower\n",
    "        alpha = np.sum(chan_psd[np.where((chan_freqs>=8) & (chan_freqs < 12))]) / totalPower\n",
    "        lowbeta = np.sum(chan_psd[np.where((chan_freqs>=12) & (chan_freqs < 20))]) / totalPower\n",
    "        highbeta = np.sum(chan_psd[np.where((chan_freqs>=20) & (chan_freqs < 30))]) / totalPower\n",
    "        lowgamma = np.sum(chan_psd[np.where((chan_freqs>=30) & (chan_freqs < 70))]) / totalPower\n",
    "        highgamma = np.sum(chan_psd[np.where((chan_freqs>=70) & (chan_freqs < 150))]) / totalPower\n",
    "        \n",
    "        bp = np.array([delta, theta, alpha, lowbeta, highbeta, lowgamma, highgamma, totalPower])\n",
    "        channel_bps = np.vstack((channel_bps, bp))\n",
    "\n",
    "    channel_bps = channel_bps[1:,:]\n",
    "    channel_bps_z = sp.stats.zscore(channel_bps, axis=1)\n",
    "    \n",
    "    run_bps.append(channel_bps)\n",
    "    run_soz.append(np.array(list(channel_soz.values())))\n",
    "    \n",
    "    all_bps = np.vstack((all_bps, channel_bps))\n",
    "    all_bps_z = np.vstack((all_bps_z, channel_bps_z))\n",
    "    all_soz = np.concatenate((all_soz, np.array(list(channel_soz.values()))))\n",
    "    \n",
    "    print(f\"Instance {inst} complete. Number of channels={all_bps_z.shape}. Number of SOZs={all_soz.shape}\")\n"
   ]
  },
  {
   "cell_type": "code",
   "execution_count": 3,
   "id": "51a14aed",
   "metadata": {},
   "outputs": [],
   "source": [
    "def StackList(inList):\n",
    "    try:\n",
    "        outList = np.zeros((1,inList[0].shape[1]))\n",
    "        for i in range(len(inList)):\n",
    "            outList = np.vstack((outList, inList[i]))\n",
    "\n",
    "        outList = outList[1:]\n",
    "    except:\n",
    "        outList = np.zeros((1,))\n",
    "        for i in range(len(inList)):\n",
    "            outList = np.concatenate((outList, inList[i]))\n",
    "\n",
    "        outList = outList[1:]\n",
    "        \n",
    "    return outList"
   ]
  },
  {
   "cell_type": "code",
   "execution_count": null,
   "id": "fa739741",
   "metadata": {},
   "outputs": [],
   "source": [
    "pid_bps = []\n",
    "pid_soz = []\n",
    "\n",
    "lastRun = ''\n",
    "for run in range(len(runNames)):\n",
    "    if runNames[run] != lastRun:\n",
    "        pid_bps.append(run_bps[run])\n",
    "        pid_soz.append(run_soz[run])\n",
    "    else:\n",
    "        pid_bps[-1] = np.vstack((pid_bps[-1],run_bps[run]))\n",
    "        pid_soz[-1] = np.concatenate((pid_soz[-1],run_soz[run]))\n",
    "        \n",
    "    lastRun = runNames[run]\n",
    "\n",
    "len(pid_bps), len(pid_soz)"
   ]
  },
  {
   "cell_type": "code",
   "execution_count": null,
   "id": "30806c24",
   "metadata": {},
   "outputs": [],
   "source": [
    "# save the data in a pickle file\n",
    "with open(\"all_bps.pkl\", 'wb') as file:\n",
    "    pickle.dump(all_bps, file)\n",
    "    \n",
    "with open(\"all_soz.pkl\", 'wb') as file:\n",
    "    pickle.dump(all_soz, file)\n",
    "    \n",
    "with open(\"pid_bps.pkl\", 'wb') as file:\n",
    "    pickle.dump(pid_bps, file)\n",
    "    \n",
    "with open(\"pid_soz.pkl\", 'wb') as file:\n",
    "    pickle.dump(pid_soz, file)"
   ]
  },
  {
   "cell_type": "code",
   "execution_count": 4,
   "id": "b935ca49",
   "metadata": {},
   "outputs": [],
   "source": [
    "# load the data from the pickle files\n",
    "with open(\"all_bps.pkl\", 'rb') as file:\n",
    "    all_bps = pickle.load(file)\n",
    "    \n",
    "with open(\"all_soz.pkl\", 'rb') as file:\n",
    "    all_soz = pickle.load(file)\n",
    "    \n",
    "with open(\"pid_bps.pkl\", 'rb') as file:\n",
    "    pid_bps = pickle.load(file)\n",
    "    \n",
    "with open(\"pid_soz.pkl\", 'rb') as file:\n",
    "    pid_soz = pickle.load(file)"
   ]
  },
  {
   "cell_type": "markdown",
   "id": "a5d67b08",
   "metadata": {},
   "source": [
    "# Generate a boxplot of each bandpower"
   ]
  },
  {
   "cell_type": "code",
   "execution_count": 5,
   "id": "7997583a",
   "metadata": {},
   "outputs": [
    {
     "data": {
      "image/png": "[encoded data removed]",
      "text/plain": [
       "<Figure size 720x576 with 1 Axes>"
      ]
     },
     "metadata": {
      "needs_background": "light"
     },
     "output_type": "display_data"
    }
   ],
   "source": [
    "chans_in_soz = all_bps[np.where(all_soz==1)]\n",
    "chans_not_soz = all_bps[np.where(all_soz==0)]\n",
    "\n",
    "fig, ax = plt.subplots(figsize=(10,8))\n",
    "offset = 3\n",
    "inset = 1\n",
    "for i in range(all_bps.shape[1]-1):\n",
    "    inSoz = ax.scatter(inset*np.ones(len(chans_in_soz[:,i])), chans_in_soz[:,i], c='b', label='In SOZ')\n",
    "    notinSoz = ax.scatter((inset+1)*np.ones(len(chans_not_soz[:,i])), chans_not_soz[:,i], c='r', label='Not in SOZ')\n",
    "    \n",
    "    inset += offset\n",
    "\n",
    "ax.legend(handles = [inSoz, notinSoz])\n",
    "ax.set_xticks([1.5, 4.5, 7.5, 10.5, 13.5, 16.5, 19.5], \n",
    "              ['Δ', 'θ', 'α', 'L-β', 'H-β', 'L-γ', 'H-γ'], fontsize=18);\n",
    "ax.set_ylabel('Relative Power', fontsize=16);\n"
   ]
  },
  {
   "cell_type": "markdown",
   "id": "5c3b6f4d",
   "metadata": {},
   "source": [
    "# Binary Classification Using Logistic Regression"
   ]
  },
  {
   "cell_type": "code",
   "execution_count": 6,
   "id": "779aa4c2",
   "metadata": {},
   "outputs": [
    {
     "name": "stdout",
     "output_type": "stream",
     "text": [
      "Average AUROC = 0.5003690036900369 +/- 0.0007380073800737907\n",
      "Average AUPRC = 0.45642197214603647 +/- 0.037213197253932365\n",
      "Average Specificity = 1.0 +/- 0.0\n",
      "Average Sensitivity = 0.0007380073800738007 +/- 0.0014760147601476012\n",
      "Average Youden = 0.0007380073800737907 +/- 0.0014760147601475815\n"
     ]
    },
    {
     "data": {
      "text/plain": [
       "array([[1.743e+03, 0.000e+00],\n",
       "       [1.455e+03, 1.000e+00]])"
      ]
     },
     "execution_count": 6,
     "metadata": {},
     "output_type": "execute_result"
    }
   ],
   "source": [
    "n = 5\n",
    "avg_auroc = []\n",
    "avg_auprc = []\n",
    "avg_specificity = []\n",
    "avg_sensitivity = []\n",
    "avg_youden = []\n",
    "avg_conf = np.zeros((2,2))\n",
    "for state in range(n):\n",
    "    # split into training and testing sets\n",
    "    X_train, X_test, t_train, t_test = train_test_split(pid_bps, pid_soz, test_size=0.2, random_state=state)\n",
    "    X_train = StackList(X_train)\n",
    "    X_test = StackList(X_test)\n",
    "    t_train = StackList(t_train)\n",
    "    t_test = StackList(t_test)\n",
    "    \n",
    "    logreg = LogisticRegression(penalty='l2')\n",
    "    logreg.fit(X_train, t_train)\n",
    "\n",
    "    t_pred = logreg.predict(X_test)\n",
    "    \n",
    "    curr_conf = confusion_matrix(t_test, t_pred)\n",
    "    tn = curr_conf[0,0]\n",
    "    fp = curr_conf[0,1]\n",
    "    fn = curr_conf[1,0]\n",
    "    tp = curr_conf[1,1]\n",
    "    \n",
    "    avg_auroc.append(roc_auc_score(t_test, t_pred))\n",
    "    avg_auprc.append(average_precision_score(t_test, t_pred))\n",
    "    avg_specificity.append(tn / (tn+fp))\n",
    "    avg_sensitivity.append(tp / (tp+fn))\n",
    "    avg_youden.append(avg_specificity[-1] + avg_sensitivity[-1] - 1)\n",
    "    \n",
    "    avg_conf = avg_conf + curr_conf\n",
    "    \n",
    "print(f\"Average AUROC = {np.mean(avg_auroc)} +/- {np.std(avg_auroc)}\")\n",
    "print(f\"Average AUPRC = {np.mean(avg_auprc)} +/- {np.std(avg_auprc)}\")\n",
    "print(f\"Average Specificity = {np.mean(avg_specificity)} +/- {np.std(avg_specificity)}\")\n",
    "print(f\"Average Sensitivity = {np.mean(avg_sensitivity)} +/- {np.std(avg_sensitivity)}\")\n",
    "print(f\"Average Youden = {np.mean(avg_youden)} +/- {np.std(avg_youden)}\")\n",
    "avg_conf"
   ]
  },
  {
   "cell_type": "markdown",
   "id": "b414fa13",
   "metadata": {},
   "source": [
    "# Binary Classification Using SVM"
   ]
  },
  {
   "cell_type": "code",
   "execution_count": 7,
   "id": "b3c21b6f",
   "metadata": {},
   "outputs": [
    {
     "data": {
      "text/plain": [
       "(1.7000000000000002, 'rbf', 0.4428216174756555)"
      ]
     },
     "execution_count": 7,
     "metadata": {},
     "output_type": "execute_result"
    }
   ],
   "source": [
    "# split into training and validation sets\n",
    "X_train_cv, X_valid, t_train_cv, t_valid = train_test_split(all_bps, all_soz, test_size=0.25, stratify=all_soz, random_state=2222)\n",
    "\n",
    "# define hyperparameters\n",
    "C = np.arange(0.1,10,0.1)\n",
    "kernel = ['linear', 'poly', 'rbf', 'sigmoid']\n",
    "\n",
    "# perform single-fold CV\n",
    "bestScore = 0\n",
    "bestC = 0\n",
    "bestKernel = 0\n",
    "for c in C:\n",
    "    for k in kernel:\n",
    "        svc = SVC(C=c, kernel=k)\n",
    "        svc.fit(X_train_cv, t_train_cv)\n",
    "        \n",
    "        t_pred_cv = svc.predict(X_valid)\n",
    "        score = average_precision_score(t_valid, t_pred_cv)\n",
    "        \n",
    "        if score > bestScore:\n",
    "            bestScore = score\n",
    "            bestC = c\n",
    "            bestKernel = k\n",
    "\n",
    "bestC, bestKernel, bestScore"
   ]
  },
  {
   "cell_type": "code",
   "execution_count": 8,
   "id": "b501915d",
   "metadata": {
    "scrolled": true
   },
   "outputs": [
    {
     "name": "stdout",
     "output_type": "stream",
     "text": [
      "Average AUROC = 0.5056178432583358 +/- 0.009640608050850284\n",
      "Average AUPRC = 0.45949788585790985 +/- 0.035159300585272585\n",
      "Average Specificity = 0.9630564154050505 +/- 0.03452520371514431\n",
      "Average Sensitivity = 0.04817927111162095 +/- 0.04931844213248151\n",
      "Average Youden = 0.011235686516671528 +/- 0.019281216101700572\n"
     ]
    },
    {
     "data": {
      "text/plain": [
       "array([[1676.,   67.],\n",
       "       [1390.,   66.]])"
      ]
     },
     "execution_count": 8,
     "metadata": {},
     "output_type": "execute_result"
    }
   ],
   "source": [
    "n = 5\n",
    "avg_auroc = []\n",
    "avg_auprc = []\n",
    "avg_specificity = []\n",
    "avg_sensitivity = []\n",
    "avg_youden = []\n",
    "avg_conf = np.zeros((2,2))\n",
    "for state in range(n):\n",
    "    # split into training and testing sets\n",
    "    X_train, X_test, t_train, t_test = train_test_split(pid_bps, pid_soz, test_size=0.2, random_state=state)\n",
    "    X_train = StackList(X_train)\n",
    "    X_test = StackList(X_test)\n",
    "    t_train = StackList(t_train)\n",
    "    t_test = StackList(t_test)\n",
    "\n",
    "    svc = SVC(C=1.7, kernel='rbf')\n",
    "    svc.fit(X_train, t_train)\n",
    "\n",
    "    t_pred = svc.predict(X_test)\n",
    "    \n",
    "    curr_conf = confusion_matrix(t_test, t_pred)\n",
    "    tn = curr_conf[0,0]\n",
    "    fp = curr_conf[0,1]\n",
    "    fn = curr_conf[1,0]\n",
    "    tp = curr_conf[1,1]\n",
    "    \n",
    "    avg_auroc.append(roc_auc_score(t_test, t_pred))\n",
    "    avg_auprc.append(average_precision_score(t_test, t_pred))\n",
    "    avg_specificity.append(tn / (tn+fp))\n",
    "    avg_sensitivity.append(tp / (tp+fn))\n",
    "    avg_youden.append(avg_specificity[-1] + avg_sensitivity[-1] - 1)\n",
    "    \n",
    "    avg_conf = avg_conf + curr_conf\n",
    "    \n",
    "print(f\"Average AUROC = {np.mean(avg_auroc)} +/- {np.std(avg_auroc)}\")\n",
    "print(f\"Average AUPRC = {np.mean(avg_auprc)} +/- {np.std(avg_auprc)}\")\n",
    "print(f\"Average Specificity = {np.mean(avg_specificity)} +/- {np.std(avg_specificity)}\")\n",
    "print(f\"Average Sensitivity = {np.mean(avg_sensitivity)} +/- {np.std(avg_sensitivity)}\")\n",
    "print(f\"Average Youden = {np.mean(avg_youden)} +/- {np.std(avg_youden)}\")\n",
    "avg_conf"
   ]
  },
  {
   "cell_type": "markdown",
   "id": "87e33216",
   "metadata": {},
   "source": [
    "# Binary Classification Using XGBoost"
   ]
  },
  {
   "cell_type": "code",
   "execution_count": 9,
   "id": "8e08a4eb",
   "metadata": {},
   "outputs": [
    {
     "data": {
      "text/plain": [
       "(40.0, 0.30000000000000004, 7, 0.5236144214177221)"
      ]
     },
     "execution_count": 9,
     "metadata": {},
     "output_type": "execute_result"
    }
   ],
   "source": [
    "# split into training and validation sets\n",
    "X_train_cv, X_valid, t_train_cv, t_valid = train_test_split(all_bps, all_soz, test_size=0.25, stratify=all_soz, random_state=2222)\n",
    "\n",
    "# perform single-fold cv for XGBoost\n",
    "n_estimators = np.linspace(5, 40, 8)\n",
    "learning_rate = np.arange(0.1, 3, 0.1)\n",
    "max_depth = np.arange(1, 8, 1)\n",
    "\n",
    "bestScore = 0\n",
    "best_n = 0\n",
    "best_lr = 0\n",
    "best_depth = 0\n",
    "for n in range(len(n_estimators)):\n",
    "    for lr in range(len(learning_rate)):\n",
    "        for d in range(len(max_depth)):\n",
    "            pipe = xgb.XGBClassifier(booster='gbtree', n_estimators=int(n_estimators[n]), \n",
    "                                     learning_rate=learning_rate[lr], max_depth=max_depth[d])\n",
    "            \n",
    "            pipe.fit(X_train_cv, t_train_cv)\n",
    "            t_pred_cv = pipe.predict(X_valid)\n",
    "            \n",
    "            score = average_precision_score(t_valid, t_pred_cv)\n",
    "            \n",
    "            if score > bestScore:\n",
    "                bestScore = score\n",
    "                best_n = n_estimators[n]\n",
    "                best_lr = learning_rate[lr]\n",
    "                best_depth = max_depth[d]\n",
    "                \n",
    "best_n, best_lr, best_depth, bestScore"
   ]
  },
  {
   "cell_type": "code",
   "execution_count": 10,
   "id": "cad4e240",
   "metadata": {},
   "outputs": [
    {
     "name": "stdout",
     "output_type": "stream",
     "text": [
      "Average AUROC = 0.5468925606989213 +/- 0.018099786025627892\n",
      "Average AUPRC = 0.48305963767377785 +/- 0.045276763935987924\n",
      "Average Specificity = 0.6982050124122263 +/- 0.06100178522715029\n",
      "Average Sensitivity = 0.39558010898561624 +/- 0.06735843319092419\n",
      "Average Youden = 0.0937851213978425 +/- 0.03619957205125583\n"
     ]
    },
    {
     "data": {
      "text/plain": [
       "array([[1215.,  528.],\n",
       "       [ 875.,  581.]])"
      ]
     },
     "execution_count": 10,
     "metadata": {},
     "output_type": "execute_result"
    }
   ],
   "source": [
    "n = 5\n",
    "avg_auroc = []\n",
    "avg_auprc = []\n",
    "avg_specificity = []\n",
    "avg_sensitivity = []\n",
    "avg_youden = []\n",
    "avg_conf = np.zeros((2,2))\n",
    "for state in range(n):\n",
    "    # split into training and testing sets\n",
    "    X_train, X_test, t_train, t_test = train_test_split(pid_bps, pid_soz, test_size=0.2, random_state=state)\n",
    "    X_train = StackList(X_train)\n",
    "    X_test = StackList(X_test)\n",
    "    t_train = StackList(t_train)\n",
    "    t_test = StackList(t_test)\n",
    "\n",
    "    pipe = xgb.XGBClassifier(booster='gbtree', n_estimators=40, \n",
    "                            learning_rate=0.3, max_depth=7)\n",
    "    pipe.fit(X_train, t_train)\n",
    "\n",
    "    #t_proba = pipe.predict_proba(X_test)[:,1]\n",
    "    t_pred = pipe.predict(X_test)\n",
    "    \n",
    "    curr_conf = confusion_matrix(t_test, t_pred)\n",
    "    tn = curr_conf[0,0]\n",
    "    fp = curr_conf[0,1]\n",
    "    fn = curr_conf[1,0]\n",
    "    tp = curr_conf[1,1]\n",
    "    \n",
    "    avg_auroc.append(roc_auc_score(t_test, t_pred))\n",
    "    avg_auprc.append(average_precision_score(t_test, t_pred))\n",
    "    avg_specificity.append(tn / (tn+fp))\n",
    "    avg_sensitivity.append(tp / (tp+fn))\n",
    "    avg_youden.append(avg_specificity[-1] + avg_sensitivity[-1] - 1)\n",
    "    \n",
    "    avg_conf = avg_conf + curr_conf\n",
    "    \n",
    "print(f\"Average AUROC = {np.mean(avg_auroc)} +/- {np.std(avg_auroc)}\")\n",
    "print(f\"Average AUPRC = {np.mean(avg_auprc)} +/- {np.std(avg_auprc)}\")\n",
    "print(f\"Average Specificity = {np.mean(avg_specificity)} +/- {np.std(avg_specificity)}\")\n",
    "print(f\"Average Sensitivity = {np.mean(avg_sensitivity)} +/- {np.std(avg_sensitivity)}\")\n",
    "print(f\"Average Youden = {np.mean(avg_youden)} +/- {np.std(avg_youden)}\")\n",
    "avg_conf"
   ]
  },
  {
   "cell_type": "markdown",
   "id": "82dfba30",
   "metadata": {},
   "source": [
    "# Binary Classification Using CNN"
   ]
  },
  {
   "cell_type": "code",
   "execution_count": 11,
   "id": "f30d30a8",
   "metadata": {},
   "outputs": [],
   "source": [
    "# define final stage architecture\n",
    "class Net(nn.Module):\n",
    "    def __init__(self):\n",
    "        super().__init__()\n",
    "        self.conv1 = nn.Conv1d(in_channels= 1, out_channels= 8, kernel_size=3, stride=1)\n",
    "        self.conv2 = nn.Conv1d(in_channels= 8, out_channels= 32, kernel_size=3, stride=1)\n",
    "        self.conv3 = nn.Conv1d(in_channels= 32, out_channels= 64, kernel_size=3, stride=1)\n",
    "        \n",
    "        self.fc1 = nn.Linear(128, 32)\n",
    "        self.fc2 = nn.Linear(32, 1)\n",
    "        \n",
    "    def forward(self, x):\n",
    "        x = F.relu(self.conv1(x))\n",
    "        x = F.relu(self.conv2(x))\n",
    "        x = F.relu(self.conv3(x))\n",
    "        x = torch.flatten(x, 1) # flatten all dimensions except batch\n",
    "        x = F.relu(self.fc1(x))\n",
    "        x = self.fc2(x)\n",
    "        return x\n"
   ]
  },
  {
   "cell_type": "code",
   "execution_count": 12,
   "id": "60fe3cff",
   "metadata": {},
   "outputs": [
    {
     "name": "stdout",
     "output_type": "stream",
     "text": [
      "Average AUROC = 0.5 +/- 0.0\n",
      "Average AUPRC = 0.4559954912457134 +/- 0.037589764401794325\n",
      "Average Specificity = 1.0 +/- 0.0\n",
      "Average Sensitivity = 0.0 +/- 0.0\n",
      "Average Youden = 0.0 +/- 0.0\n"
     ]
    },
    {
     "data": {
      "text/plain": [
       "array([[1743.,    0.],\n",
       "       [1456.,    0.]])"
      ]
     },
     "execution_count": 12,
     "metadata": {},
     "output_type": "execute_result"
    }
   ],
   "source": [
    "n = 5\n",
    "avg_auroc = []\n",
    "avg_auprc = []\n",
    "avg_specificity = []\n",
    "avg_sensitivity = []\n",
    "avg_youden = []\n",
    "avg_conf = np.zeros((2,2))\n",
    "for state in range(n):\n",
    "    # split into training and testing sets\n",
    "    X_train, X_test, t_train, t_test = train_test_split(pid_bps, pid_soz, test_size=0.2, random_state=state)\n",
    "    X_train = StackList(X_train)\n",
    "    X_test = StackList(X_test)\n",
    "    t_train = StackList(t_train)\n",
    "    t_test = StackList(t_test)\n",
    "    \n",
    "    net = Net()\n",
    "    net.train()\n",
    "    \n",
    "    criterion = nn.BCEWithLogitsLoss()\n",
    "    optimizer = torch.optim.SGD(net.parameters(), lr=0.001, momentum=0.9)\n",
    "\n",
    "    lenTrain, lenTest = len(t_train), len(t_test)\n",
    "    X_train_cnn = torch.from_numpy(np.reshape(X_train, (lenTrain, 1, -1)))\n",
    "    X_test_cnn = torch.from_numpy(np.reshape(X_test, (lenTest, 1, -1)))\n",
    "    t_train_cnn = torch.from_numpy(t_train)\n",
    "    t_test_cnn = torch.from_numpy(t_test)\n",
    "\n",
    "    trainSet = torch.utils.data.TensorDataset(X_train_cnn, t_train_cnn)\n",
    "    trainLoader = torch.utils.data.DataLoader(trainSet, batch_size=1, shuffle=True) # test different batch sizes if needed\n",
    "\n",
    "    for epoch in range(2):\n",
    "        running_loss = 0.0\n",
    "\n",
    "        for i, data in enumerate(trainLoader, 0):\n",
    "            # get the inputs\n",
    "            inputs, labels = data\n",
    "\n",
    "            # zero the parameter gradients\n",
    "            optimizer.zero_grad()\n",
    "\n",
    "            # forward + backward + optimize\n",
    "            outputs = net(inputs.float())\n",
    "            loss = criterion(outputs[:,0], labels.float())\n",
    "            loss.backward()\n",
    "            optimizer.step()\n",
    "\n",
    "            # print statistics\n",
    "            running_loss += loss.item()\n",
    "            if i % 2796 == 2795:    # print every 16 mini-batches\n",
    "                print(f'[{epoch + 1}, {i + 1:5d}] loss: {running_loss / 2796:.3f}')\n",
    "                running_loss = 0.0\n",
    "    \n",
    "    net.eval()\n",
    "    with torch.no_grad():\n",
    "        t_pred = net(X_test_cnn.float())\n",
    "    gc.collect()\n",
    "    t_pred = t_pred.numpy()\n",
    "    t_pred.shape\n",
    "\n",
    "    t_pred[np.where(t_pred < 0)] = 0\n",
    "    t_pred[np.where(t_pred < 0)] = 1\n",
    "\n",
    "    t_pred = np.reshape(t_pred, (-1))\n",
    "    \n",
    "    curr_conf = confusion_matrix(t_test, t_pred)\n",
    "    tn = curr_conf[0,0]\n",
    "    fp = curr_conf[0,1]\n",
    "    fn = curr_conf[1,0]\n",
    "    tp = curr_conf[1,1]\n",
    "    \n",
    "    avg_auroc.append(roc_auc_score(t_test, t_pred))\n",
    "    avg_auprc.append(average_precision_score(t_test, t_pred))\n",
    "    avg_specificity.append(tn / (tn+fp))\n",
    "    avg_sensitivity.append(tp / (tp+fn))\n",
    "    avg_youden.append(avg_specificity[-1] + avg_sensitivity[-1] - 1)\n",
    "    \n",
    "    avg_conf = avg_conf + curr_conf\n",
    "    \n",
    "    del net\n",
    "    \n",
    "print(f\"Average AUROC = {np.mean(avg_auroc)} +/- {np.std(avg_auroc)}\")\n",
    "print(f\"Average AUPRC = {np.mean(avg_auprc)} +/- {np.std(avg_auprc)}\")\n",
    "print(f\"Average Specificity = {np.mean(avg_specificity)} +/- {np.std(avg_specificity)}\")\n",
    "print(f\"Average Sensitivity = {np.mean(avg_sensitivity)} +/- {np.std(avg_sensitivity)}\")\n",
    "print(f\"Average Youden = {np.mean(avg_youden)} +/- {np.std(avg_youden)}\")\n",
    "avg_conf"
   ]
  },
  {
   "cell_type": "code",
   "execution_count": null,
   "id": "129f0ec8",
   "metadata": {},
   "outputs": [],
   "source": []
  }
 ],
 "metadata": {
  "kernelspec": {
   "display_name": "Python 3 (ipykernel)",
   "language": "python",
   "name": "python3"
  },
  "language_info": {
   "codemirror_mode": {
    "name": "ipython",
    "version": 3
   },
   "file_extension": ".py",
   "mimetype": "text/x-python",
   "name": "python",
   "nbconvert_exporter": "python",
   "pygments_lexer": "ipython3",
   "version": "3.10.2"
  }
 },
 "nbformat": 4,
 "nbformat_minor": 5
}
